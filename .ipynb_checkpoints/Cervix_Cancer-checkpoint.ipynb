{
 "cells": [
  {
   "cell_type": "markdown",
   "metadata": {},
   "source": [
    "# Modelos predictivos para el trabajo de SIT1"
   ]
  },
  {
   "cell_type": "code",
   "execution_count": 3,
   "metadata": {},
   "outputs": [],
   "source": [
    "import pandas as pd\n",
    "import numpy as np\n",
    "import pickle\n",
    "from sklearn.impute import SimpleImputer\n",
    "from sklearn.model_selection import train_test_split\n",
    "from sklearn.ensemble import RandomForestClassifier\n",
    "from sklearn.metrics import accuracy_score, roc_auc_score\n",
    "from sklearn.decomposition import PCA\n",
    "from imblearn.over_sampling import SMOTE, ADASYN"
   ]
  },
  {
   "cell_type": "code",
   "execution_count": 46,
   "metadata": {},
   "outputs": [],
   "source": [
    "def load_data():\n",
    "    # para la version de prototipo tenemos los datos\n",
    "    # en el mismo directorio\n",
    "    data = pd.read_csv('cervix_cancer/risk_factors_cervical_cancer.csv', sep=',')\n",
    "    # cambia el simbolo ? por nan\n",
    "    data.replace(to_replace='?', value=np.nan, inplace=True)\n",
    "    \n",
    "    # separar los targets: Hinselmann, Schiller, Citology, Biopsy\n",
    "    labels = {\n",
    "        'Hinselmann': data['Hinselmann'],\n",
    "        'Schiller': data['Schiller'],\n",
    "        'Citology': data['Citology'],\n",
    "        'Biopsy': data['Biopsy']\n",
    "    }\n",
    "    # elimina los targets del dataframe\n",
    "    del data['Hinselmann']\n",
    "    del data['Schiller']\n",
    "    del data['Citology']\n",
    "    del data['Biopsy']\n",
    "    # retorn las caracteristicas\n",
    "    # y un diccionario con las diferentes etiquetas\n",
    "    return data, labels"
   ]
  },
  {
   "cell_type": "code",
   "execution_count": 5,
   "metadata": {},
   "outputs": [],
   "source": [
    "def preprocess(df, imputer=None):\n",
    "    # imputa los valores ausentes (NA)\n",
    "    # en este dataset no hay variables categoricas\n",
    "    if imputer == None:\n",
    "        imputer = SimpleImputer(missing_values=np.nan, strategy='median')\n",
    "        imputer.fit(df)\n",
    "    return imputer.transform(df), imputer"
   ]
  },
  {
   "cell_type": "code",
   "execution_count": 48,
   "metadata": {},
   "outputs": [
    {
     "name": "stdout",
     "output_type": "stream",
     "text": [
      "Number of features: 32\n",
      "Number of samples: 858\n",
      "AUC ROC: 0.8291666666666666\n",
      "Accuracy 0.9302325581395349\n"
     ]
    }
   ],
   "source": [
    "def main():    \n",
    "    # main function\n",
    "    df, labels = load_data()\n",
    "    y = labels['Biopsy']\n",
    "    print('Number of features:', df.shape[1])\n",
    "    print('Number of samples:', df.shape[0])\n",
    "    rf = None\n",
    "    headers = df.columns.values\n",
    "    # divide en train y test\n",
    "    X_train, X_test, y_train, y_test = train_test_split(df, y, test_size=0.1, stratify=y)\n",
    "    # procesa los datos\n",
    "    X_train, imputer = preprocess(X_train)\n",
    "    X_test, _ = preprocess(X_test, imputer)\n",
    "    # metodo de oversample para la clase positiva\n",
    "    #X_train, y_train = ADASYN().fit_resample(X_train, y_train)\n",
    "\n",
    "    # crea el modelo y entrena\n",
    "    rf = RandomForestClassifier(n_estimators=50)\n",
    "    rf.fit(X_train, y_train)\n",
    "    # test\n",
    "    probabilities = rf.predict_proba(X_test)[:, 1]\n",
    "    print('AUC ROC:', roc_auc_score(y_true=y_test, y_score=probabilities))\n",
    "    print('Accuracy', accuracy_score(y_test, [1 if p >= 0.5 else 0 for p in probabilities]))\n",
    "    # save last model\n",
    "    save_models(rf, X_test, y_test, headers)\n",
    "        \n",
    "main()        "
   ]
  },
  {
   "cell_type": "code",
   "execution_count": 44,
   "metadata": {},
   "outputs": [],
   "source": [
    "def save_models(model, X_test, y_test, headers):\n",
    "    pickle.dump(model, open('model_cervix.p', 'wb'))\n",
    "    # save the test split\n",
    "    X_test = pd.DataFrame(data=X_test, columns=headers)\n",
    "    X_test['label'] = np.array(y_test)\n",
    "    X_test.to_csv('test_cervix', sep=';')"
   ]
  },
  {
   "cell_type": "code",
   "execution_count": 49,
   "metadata": {},
   "outputs": [
    {
     "name": "stderr",
     "output_type": "stream",
     "text": [
      "/home/ravn/anaconda3/lib/python3.7/site-packages/sklearn/base.py:306: UserWarning: Trying to unpickle estimator DecisionTreeClassifier from version 0.20.1 when using version 0.21.3. This might lead to breaking code or invalid results. Use at your own risk.\n",
      "  UserWarning)\n",
      "/home/ravn/anaconda3/lib/python3.7/site-packages/sklearn/base.py:306: UserWarning: Trying to unpickle estimator RandomForestClassifier from version 0.20.1 when using version 0.21.3. This might lead to breaking code or invalid results. Use at your own risk.\n",
      "  UserWarning)\n"
     ]
    }
   ],
   "source": [
    "def load_models():\n",
    "    model_ = pickle.load(open('model_adult.p', 'rb'))\n",
    "    test_ = pd.read_csv('test_processed_adult', sep=';', index_col=0)\n",
    "    y_real = test_['label']\n",
    "    del test_['label']\n",
    "    y_hat = model_.predict(test_)\n",
    "load_models()"
   ]
  }
 ],
 "metadata": {
  "kernelspec": {
   "display_name": "Python 3",
   "language": "python",
   "name": "python3"
  },
  "language_info": {
   "codemirror_mode": {
    "name": "ipython",
    "version": 3
   },
   "file_extension": ".py",
   "mimetype": "text/x-python",
   "name": "python",
   "nbconvert_exporter": "python",
   "pygments_lexer": "ipython3",
   "version": "3.7.4"
  }
 },
 "nbformat": 4,
 "nbformat_minor": 2
}
