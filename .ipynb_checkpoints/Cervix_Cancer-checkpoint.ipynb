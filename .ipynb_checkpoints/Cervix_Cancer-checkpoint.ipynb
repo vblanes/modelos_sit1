{
 "cells": [
  {
   "cell_type": "markdown",
   "metadata": {},
   "source": [
    "# Modelos predictivos para el trabajo de SIT1"
   ]
  },
  {
   "cell_type": "code",
   "execution_count": 124,
   "metadata": {},
   "outputs": [],
   "source": [
    "import pandas as pd\n",
    "import numpy as np\n",
    "from sklearn.impute import SimpleImputer\n",
    "from sklearn.model_selection import train_test_split\n",
    "from sklearn.ensemble import RandomForestClassifier\n",
    "from sklearn.metrics import accuracy_score, roc_auc_score\n",
    "from sklearn.decomposition import PCA\n",
    "from imblearn.over_sampling import SMOTE, ADASYN"
   ]
  },
  {
   "cell_type": "code",
   "execution_count": 129,
   "metadata": {},
   "outputs": [],
   "source": [
    "def load_data():\n",
    "    # para la version de prototipo tenemos los datos\n",
    "    # en el mismo directorio\n",
    "    data = pd.read_csv('cervix_cancer/risk_factors_cervical_cancer.csv', sep=',')\n",
    "    # cambia el simbolo ? por nan\n",
    "    data.replace(to_replace='?', value=np.nan, inplace=True)\n",
    "    \n",
    "    # separar los targets: Hinselmann, Schiller, Citology, Biopsy\n",
    "    labels = {\n",
    "        'Hinselmann': data['Hinselmann'],\n",
    "        'Schiller': data['Schiller'],\n",
    "        'Citology': data['Citology'],\n",
    "        'Biopsy': data['Biopsy']\n",
    "    }\n",
    "    # elimina los targets del dataframe\n",
    "    del data['Hinselmann']\n",
    "    del data['Schiller']\n",
    "    del data['Citology']\n",
    "    del data['Biopsy']\n",
    "    # retorn las caracteristicas\n",
    "    # y un diccionario con las diferentes etiquetas\n",
    "    return data, labels"
   ]
  },
  {
   "cell_type": "code",
   "execution_count": 16,
   "metadata": {},
   "outputs": [],
   "source": [
    "def preprocess(df, imputer=None):\n",
    "    # imputa los valores ausentes (NA)\n",
    "    # en este dataset no hay variables categoricas\n",
    "    if imputer == None:\n",
    "        imputer = SimpleImputer(missing_values=np.nan, strategy='median')\n",
    "        imputer.fit(df)\n",
    "    return imputer.transform(df), imputer"
   ]
  },
  {
   "cell_type": "code",
   "execution_count": 132,
   "metadata": {},
   "outputs": [
    {
     "name": "stdout",
     "output_type": "stream",
     "text": [
      "Number of features: 32\n",
      "Number of samples: 858\n",
      "Media de aucs: 0.6373125000000001\n"
     ]
    }
   ],
   "source": [
    "def main(pca_f=False):    \n",
    "    # main function\n",
    "    df, labels = load_data()\n",
    "    print('Number of features:', df.shape[1])\n",
    "    print('Number of samples:', df.shape[0])\n",
    "    aucs = []\n",
    "    for _ in range(100):\n",
    "        # divide en train y test\n",
    "        X_train, X_test, y_train, y_test = train_test_split(df, labels['Biopsy'], \n",
    "                                                   test_size=0.1, stratify=labels['Biopsy'])\n",
    "\n",
    "        # procesa los datos\n",
    "        X_train, imputer = preprocess(X_train)\n",
    "        X_test, _ = preprocess(X_test, imputer)\n",
    "        # metodo de oversample para la clase positiva\n",
    "        X_train, y_train = SMOTE().fit_resample(X_train, y_train)\n",
    "        # aplica PCA\n",
    "        if pca_f:\n",
    "            pca = PCA(n_components=20)\n",
    "            X_train = pca.fit_transform(X_train)\n",
    "            X_test = pca.transform(X_test)\n",
    "\n",
    "        # crea el modelo y entrena\n",
    "        rf = RandomForestClassifier(n_estimators=50)\n",
    "        rf.fit(X_train, y_train)\n",
    "        # test\n",
    "        probabilities = rf.predict_proba(X_test)[:, 1]\n",
    "        scr_ = roc_auc_score(y_true=y_test, y_score=probabilities)\n",
    "        aucs.append(scr_)\n",
    "    print('Media de aucs:', np.mean(aucs))\n",
    "        \n",
    "main(pca_f=True)        "
   ]
  }
 ],
 "metadata": {
  "kernelspec": {
   "display_name": "Python 3",
   "language": "python",
   "name": "python3"
  },
  "language_info": {
   "codemirror_mode": {
    "name": "ipython",
    "version": 3
   },
   "file_extension": ".py",
   "mimetype": "text/x-python",
   "name": "python",
   "nbconvert_exporter": "python",
   "pygments_lexer": "ipython3",
   "version": "3.7.1"
  }
 },
 "nbformat": 4,
 "nbformat_minor": 2
}
