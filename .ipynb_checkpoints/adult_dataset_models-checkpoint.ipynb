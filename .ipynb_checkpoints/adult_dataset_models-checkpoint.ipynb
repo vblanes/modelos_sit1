{
 "cells": [
  {
   "cell_type": "code",
   "execution_count": 94,
   "metadata": {},
   "outputs": [],
   "source": [
    "# Predict whether income exceeds $50K/yr based on census data. Also known as \"Census Income\" dataset.\n",
    "import pandas as pd\n",
    "import numpy as np\n",
    "from sklearn.preprocessing import LabelEncoder\n",
    "from sklearn.impute import SimpleImputer\n",
    "from sklearn.ensemble import RandomForestClassifier\n",
    "from sklearn.metrics import accuracy_score, roc_auc_score, roc_curve, auc\n",
    "import matplotlib.pyplot as plt\n",
    "import pickle\n",
    "from imblearn.over_sampling import SMOTE, ADASYN"
   ]
  },
  {
   "cell_type": "code",
   "execution_count": 6,
   "metadata": {},
   "outputs": [],
   "source": [
    "def load_data():\n",
    "    # estos ficheros no tienen header\n",
    "    headers = ['age', 'workclass', 'fnlwgt', 'education', 'education-num',\n",
    "             'marital-status', 'accupation', 'relationship', 'race', 'sex',\n",
    "             'capital-gain', 'capital-loss', 'hours-per-week', 'native-country', 'label']\n",
    "    \n",
    "    path_= 'adult_dataset'\n",
    "    X_train = pd.read_csv(path_+'/adult.data', sep=',', header=None, names=headers)\n",
    "    X_test = pd.read_csv(path_+'/adult.test', sep=',', header=None, names=headers, skiprows=1)\n",
    "    X_train.replace(to_replace='?', value=np.nan, inplace=True)\n",
    "    X_test.replace(to_replace='?', value=np.nan, inplace=True)\n",
    "    \n",
    "    y_train = X_train['label']\n",
    "    y_test = X_test['label']\n",
    "    del X_train['label']\n",
    "    del X_test['label']\n",
    "    return X_train, X_test, y_train, y_test"
   ]
  },
  {
   "cell_type": "code",
   "execution_count": 33,
   "metadata": {},
   "outputs": [],
   "source": [
    "def preprocess(df, imputer=None, encoders=None):\n",
    "    categorical_headers = ['workclass', 'education', 'marital-status', 'accupation', \n",
    "                           'relationship', 'race', 'sex', 'native-country']\n",
    "    if encoders == None:\n",
    "        encoders = [LabelEncoder().fit(df[h]) for h in categorical_headers]\n",
    "    \n",
    "    for ind, h in enumerate(categorical_headers):\n",
    "        df[h] = encoders[ind].transform(df[h])\n",
    "    \n",
    "    if imputer == None:\n",
    "        imputer = SimpleImputer(missing_values=np.nan, strategy='median')\n",
    "        imputer.fit(df)\n",
    "    return imputer.transform(df), imputer, encoders"
   ]
  },
  {
   "cell_type": "code",
   "execution_count": 86,
   "metadata": {},
   "outputs": [],
   "source": [
    "def plot_ROC(y_test, probs):\n",
    "    fpr, tpr, _ = roc_curve(y_test, probs)\n",
    "    roc_auc = auc(fpr, tpr)\n",
    "\n",
    "    plt.figure()\n",
    "    lw = 2\n",
    "    plt.plot(fpr, tpr, color='darkorange',\n",
    "             lw=lw, label='ROC curve (area = %0.2f)' % roc_auc)\n",
    "    plt.plot([0, 1], [0, 1], color='navy', lw=lw, linestyle='--')\n",
    "    plt.xlim([0.0, 1.0])\n",
    "    plt.ylim([0.0, 1.0])\n",
    "    plt.xlabel('False Positive Rate')\n",
    "    plt.ylabel('True Positive Rate')\n",
    "    plt.title('Receiver operating characteristic')\n",
    "    plt.legend(loc=\"lower right\")\n",
    "    plt.show()"
   ]
  },
  {
   "cell_type": "code",
   "execution_count": 98,
   "metadata": {},
   "outputs": [
    {
     "name": "stdout",
     "output_type": "stream",
     "text": [
      "Positives: 7841 Total: 32561\n",
      "Positives: 3846 Total: 16281\n",
      "AUC ROC: 0.9018989854889732\n",
      "Accuracy: 0.8559056569006818\n"
     ]
    },
    {
     "data": {
      "image/png": "[encoded data removed]",
      "text/plain": [
       "<Figure size 432x288 with 1 Axes>"
      ]
     },
     "metadata": {
      "needs_background": "light"
     },
     "output_type": "display_data"
    }
   ],
   "source": [
    "headers = ['age', 'workclass', 'fnlwgt', 'education', 'education-num',\n",
    "             'marital-status', 'accupation', 'relationship', 'race', 'sex',\n",
    "             'capital-gain', 'capital-loss', 'hours-per-week', 'native-country']\n",
    "\n",
    "X_train, X_test, y_train, y_test = load_data()\n",
    "# apply categorical encoders + missing values imputation\n",
    "X_train, imputer, encoders = preprocess(X_train)\n",
    "X_test, _, _ = preprocess(X_test, imputer, encoders)\n",
    "# categorize variables by hand\n",
    "y_train = np.array([1 if y.strip() == \">50K\" else 0 for y in y_train])\n",
    "y_test = np.array([1 if y.strip() == '>50K.' else 0 for y in y_test])\n",
    "# Oversampling method?\n",
    "#X_train, y_train = SMOTE().fit_resample(X_train, y_train)\n",
    "#X_train, y_train = ADASYN().fit_resample(X_train, y_train)\n",
    "print('Positives:', sum(y_train), 'Total:', len(y_train))\n",
    "print('Positives:', sum(y_test), 'Total:', len(y_test))\n",
    "# train the model\n",
    "rf = RandomForestClassifier(n_estimators=50)\n",
    "rf.fit(X_train, y_train)\n",
    "# test the model\n",
    "probabilities = rf.predict_proba(X_test)[:,1]\n",
    "auc_ = roc_auc_score(y_true=y_test, y_score=probabilities)\n",
    "acc_ = accuracy_score(y_test, [1 if p >= 0.55 else 0 for p in probabilities])\n",
    "print('AUC ROC:', auc_)\n",
    "print('Accuracy:', acc_)\n",
    "plot_ROC(y_test, probabilities)\n",
    "# store the model\n",
    "pickle.dump(rf, open('model_adult.p', 'wb'))\n",
    "# store the test dataframe\n",
    "X_test = pd.DataFrame(data=X_test, columns=headers)\n",
    "X_test['label'] = y_test\n",
    "X_test.to_csv('test_processed_adult', sep=';')"
   ]
  },
  {
   "cell_type": "code",
   "execution_count": 93,
   "metadata": {},
   "outputs": [],
   "source": [
    "#test of loading again the files\n",
    "model_ = pickle.load(open('model_adult.p', 'rb'))\n",
    "test_ = pd.read_csv('test_processed_adult', sep=';', index_col=0)\n",
    "y_real = test_['label']\n",
    "del test_['label']\n",
    "y_hat = model_.predict(test_)"
   ]
  }
 ],
 "metadata": {
  "kernelspec": {
   "display_name": "Python 3",
   "language": "python",
   "name": "python3"
  },
  "language_info": {
   "codemirror_mode": {
    "name": "ipython",
    "version": 3
   },
   "file_extension": ".py",
   "mimetype": "text/x-python",
   "name": "python",
   "nbconvert_exporter": "python",
   "pygments_lexer": "ipython3",
   "version": "3.7.1"
  }
 },
 "nbformat": 4,
 "nbformat_minor": 2
}
