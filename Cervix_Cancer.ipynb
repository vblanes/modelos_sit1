{
 "cells": [
  {
   "cell_type": "markdown",
   "metadata": {},
   "source": [
    "# Modelos predictivos para el trabajo de SIT1"
   ]
  },
  {
   "cell_type": "code",
   "execution_count": 2,
   "metadata": {},
   "outputs": [],
   "source": [
    "import pandas as pd"
   ]
  },
  {
   "cell_type": "code",
   "execution_count": 3,
   "metadata": {},
   "outputs": [],
   "source": [
    "def load_data():\n",
    "    # para la version de prototipo tenemos los datos\n",
    "    # en el mismo directorio\n",
    "    data = pd.read_csv('risk_factors_cervical_cancer.csv', sep=',')\n",
    "    # separar los targets: Hinselmann, Schiller, Citology, Biopsy\n",
    "    labels = {\n",
    "        'Hinselmann': data['Hinselmann'],\n",
    "        'Schiller': data['Schiller'],\n",
    "        'Citology': data['Citology'],\n",
    "        'Biopsy': data['Biopsy']\n",
    "    }\n",
    "    # elimina los targets del dataframe\n",
    "    del data['Hinselmann']\n",
    "    del data['Schiller']\n",
    "    del data['Citology']\n",
    "    del data['Biopsy']\n",
    "    return data, labels"
   ]
  },
  {
   "cell_type": "code",
   "execution_count": null,
   "metadata": {},
   "outputs": [],
   "source": []
  }
 ],
 "metadata": {
  "kernelspec": {
   "display_name": "Python 3",
   "language": "python",
   "name": "python3"
  },
  "language_info": {
   "codemirror_mode": {
    "name": "ipython",
    "version": 3
   },
   "file_extension": ".py",
   "mimetype": "text/x-python",
   "name": "python",
   "nbconvert_exporter": "python",
   "pygments_lexer": "ipython3",
   "version": "3.7.1"
  }
 },
 "nbformat": 4,
 "nbformat_minor": 2
}
